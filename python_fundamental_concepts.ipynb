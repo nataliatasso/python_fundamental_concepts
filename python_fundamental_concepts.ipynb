{
  "nbformat": 4,
  "nbformat_minor": 0,
  "metadata": {
    "colab": {
      "provenance": [],
      "include_colab_link": true
    },
    "kernelspec": {
      "name": "python3",
      "display_name": "Python 3"
    },
    "language_info": {
      "name": "python"
    }
  },
  "cells": [
    {
      "cell_type": "markdown",
      "metadata": {
        "id": "view-in-github",
        "colab_type": "text"
      },
      "source": [
        "<a href=\"https://colab.research.google.com/github/nataliatasso/python_fundamental_concepts/blob/main/python_fundamental_concepts.ipynb\" target=\"_parent\"><img src=\"https://colab.research.google.com/assets/colab-badge.svg\" alt=\"Open In Colab\"/></a>"
      ]
    },
    {
      "cell_type": "markdown",
      "source": [
        "# Exercícios de Conceitos Básicos de Python"
      ],
      "metadata": {
        "id": "v8UclYrruHyW"
      }
    },
    {
      "cell_type": "code",
      "source": [
        "from datetime import datetime"
      ],
      "metadata": {
        "id": "PQjz5mfWy6kk"
      },
      "execution_count": null,
      "outputs": []
    },
    {
      "cell_type": "markdown",
      "source": [
        "1. Faça um programa que peça dois números e realize as principais\n",
        "operações (soma, subtração, multiplicação e divisão)."
      ],
      "metadata": {
        "id": "HAf0gVUzv5oY"
      }
    },
    {
      "cell_type": "code",
      "execution_count": null,
      "metadata": {
        "id": "EuZuSTONvrPx",
        "colab": {
          "base_uri": "https://localhost:8080/"
        },
        "outputId": "7f7536d7-1cfc-49bc-e7c6-a44a8f933d14"
      },
      "outputs": [
        {
          "output_type": "stream",
          "name": "stdout",
          "text": [
            "Digite um número: 4\n",
            "Digite outro número: 2\n",
            "A soma dos dois número é igual a 6.0.\n",
            "A subtração dos dois número é igual a 2.0.\n",
            "A multiplicação dos dois número é igual a 8.0.\n",
            "A divisão dos dois número é igual a 2.0.\n"
          ]
        }
      ],
      "source": [
        "# Solicitar entrada ao usuário\n",
        "num1 = float(input('Digite um número: '))\n",
        "num2 = float(input('Digite outro número: '))\n",
        "\n",
        "# Realizar as operações\n",
        "soma = num1 + num2\n",
        "subt = num1 - num2\n",
        "mult = num1 * num2\n",
        "div = num1 / num2\n",
        "\n",
        "# Exibir o resultado\n",
        "print(f\"A soma dos dois número é igual a {soma}.\")\n",
        "print(f\"A subtração dos dois número é igual a {subt}.\")\n",
        "print(f\"A multiplicação dos dois número é igual a {mult}.\")\n",
        "print(f\"A divisão dos dois número é igual a {div}.\")"
      ]
    },
    {
      "cell_type": "markdown",
      "source": [
        "2. Peça ao usuário para informar o ano de nascimento. Em seguida,\n",
        "calcule e imprima a idade atual."
      ],
      "metadata": {
        "id": "xJ7NDHw0x1c_"
      }
    },
    {
      "cell_type": "code",
      "source": [
        "# Solicitar entrada ao usuário\n",
        "ano = int(input('Insira seu ano de nascimento: '))\n",
        "\n",
        "# Obter o ano atual\n",
        "ano_atual = datetime.now().year\n",
        "\n",
        "# Calcular a idade\n",
        "idade = ano_atual - ano\n",
        "\n",
        "# Exibir o resultado\n",
        "print(f'Você já tem ou fará {idade} anos em {ano_atual}.')"
      ],
      "metadata": {
        "id": "ymvJpZDqx3wO",
        "colab": {
          "base_uri": "https://localhost:8080/"
        },
        "outputId": "c1d816b9-cb00-4a4f-a713-07345b96823b"
      },
      "execution_count": null,
      "outputs": [
        {
          "output_type": "stream",
          "name": "stdout",
          "text": [
            "Insira seu ano de nascimento: 1993\n",
            "Você já tem ou fará 31 anos em 2024.\n"
          ]
        }
      ]
    },
    {
      "cell_type": "markdown",
      "source": [
        "3. Faça um programa que peça a quantidade de quilômetros, transforme\n",
        "em metros, centímetros e milímetros."
      ],
      "metadata": {
        "id": "scKtMgs6zaAW"
      }
    },
    {
      "cell_type": "code",
      "source": [
        "# Solicitar entrada ao usuário\n",
        "km = float(input('Insira uma quantidade de quilômetros: '))\n",
        "\n",
        "# Realizar as operações\n",
        "metros = km * 1000\n",
        "centi = km * 100000\n",
        "mili = km * 1000000\n",
        "\n",
        "# Exibir o resultado\n",
        "print(f'O número inserido de quilômetros equivale a {metros:.0f} metros, {centi:.0f} centímetros e {mili:.0f} milímetros')"
      ],
      "metadata": {
        "id": "6x3mOTZxzemn",
        "colab": {
          "base_uri": "https://localhost:8080/"
        },
        "outputId": "8ccc2fee-48a9-4b87-d4dc-a237be73225f"
      },
      "execution_count": null,
      "outputs": [
        {
          "output_type": "stream",
          "name": "stdout",
          "text": [
            "Insira uma quantidade de quilômetros: 10\n",
            "O número inserido de quilômetros equivale a 10000 metros, 1000000 centímetros e 10000000 milímetros\n"
          ]
        }
      ]
    },
    {
      "cell_type": "markdown",
      "source": [
        "4. Receba do usuário a quantidade de litros de combustível consumidos e\n",
        "a distância percorrida. Calcule e imprima o consumo médio em km/l."
      ],
      "metadata": {
        "id": "fff0_EfA2mDm"
      }
    },
    {
      "cell_type": "code",
      "source": [
        "# Solicitar entrada ao usuário\n",
        "print('Insira a quantidade de litros de combustível consumidos e a distância percorrida.')\n",
        "litros = float(input('Quantidade de litros: '))\n",
        "distancia = float(input('Distância percorrida: '))\n",
        "\n",
        "# Calcular\n",
        "consumo_medio = distancia / litros\n",
        "\n",
        "# Exibir o resultado\n",
        "print(f'O consumo médio do veículo foi de {consumo_medio:.2f} km/l.')"
      ],
      "metadata": {
        "id": "ZmL-JG7Q2qCa",
        "colab": {
          "base_uri": "https://localhost:8080/"
        },
        "outputId": "0b435e43-d54a-41ca-ec76-1ee1c0b5619a"
      },
      "execution_count": null,
      "outputs": [
        {
          "output_type": "stream",
          "name": "stdout",
          "text": [
            "Insira a quantidade de litros de combustível consumidos e a distância percorrida.\n",
            "Quantidade de litros: 1\n",
            "Distância percorrida: 10.5\n",
            "O consumo médio do veículo foi de 10.50 km/l.\n"
          ]
        }
      ]
    },
    {
      "cell_type": "markdown",
      "source": [
        "5. Escreva um programa que calcule o tempo de uma viagem. Faça um\n",
        "comparativo do mesmo percurso de avião, carro e ônibus.\n",
        "Levando em consideração:\n",
        "● avião = 600 km/h\n",
        "● carro = 100 km/h\n",
        "● ônibus = 80 km/h"
      ],
      "metadata": {
        "id": "E7Ea1aA82tOq"
      }
    },
    {
      "cell_type": "code",
      "source": [
        "# Solicitar entrada ao usuário\n",
        "distancia = float(input('Insira a distância da sua viagem em quilômetros: '))\n",
        "\n",
        "# Calcular\n",
        "tempo_aviao = distancia / 600\n",
        "tempo_carro = distancia / 100\n",
        "tempo_onibus = distancia / 80\n",
        "\n",
        "# Exibir o resultado\n",
        "print(f'A sua viagem duraria {tempo_aviao:.2f} horas de aviao, {tempo_carro:.2f} horas de carro e {tempo_onibus:.2f} horas de ônibus')"
      ],
      "metadata": {
        "id": "uf49gXZP2v74",
        "colab": {
          "base_uri": "https://localhost:8080/"
        },
        "outputId": "e1660d96-6bc6-4d46-ff27-ef0185be2ea0"
      },
      "execution_count": null,
      "outputs": [
        {
          "output_type": "stream",
          "name": "stdout",
          "text": [
            "Insira a distância da sua viagem em quilômetros: 20\n",
            "A sua viagem duraria 0.03 horas de aviao, 0.20 horas de carro e 0.25 horas de ônibus\n"
          ]
        }
      ]
    },
    {
      "cell_type": "markdown",
      "source": [
        "6. Solicite ao usuário o peso em kg e a altura em metros. Calcule e\n",
        "imprima o Índice de Massa Corporal (IMC) usando a fórmula:\n",
        "IMC = peso / (altura x altura)."
      ],
      "metadata": {
        "id": "2UoAB36I2wTk"
      }
    },
    {
      "cell_type": "code",
      "source": [
        "# Solicitar entrada ao usuário\n",
        "print('Vamos calcular seu Índice de Massa Corporal! Insira abaixo seu peso e sua altura.')\n",
        "peso = float(input('Peso (em quilos): '))\n",
        "altura = float(input('Altura (em metros): '))\n",
        "\n",
        "# Calcular\n",
        "imc = peso / (altura ** 2)\n",
        "\n",
        "# Exibir o resultado\n",
        "print(f'Seu IMC é {imc:.2f}.')"
      ],
      "metadata": {
        "colab": {
          "base_uri": "https://localhost:8080/"
        },
        "id": "yNfLHv4q2yZf",
        "outputId": "09f7aa38-6776-4468-fb39-318a5398e6b4"
      },
      "execution_count": null,
      "outputs": [
        {
          "output_type": "stream",
          "name": "stdout",
          "text": [
            "Vamos calcular seu Índice de Massa Corporal! Insira abaixo seu peso e sua altura.\n",
            "Peso (em quilos): 70\n",
            "Altura (em metros): 1.62\n",
            "Seu IMC é 26.67.\n"
          ]
        }
      ]
    },
    {
      "cell_type": "markdown",
      "source": [
        "7. Faça um Programa que pergunte quanto você ganha por hora e o\n",
        "número de horas trabalhadas no mês.Calcule e mostre o total do seu\n",
        "salário no referido mês."
      ],
      "metadata": {
        "id": "QhTmA7VI2yzb"
      }
    },
    {
      "cell_type": "code",
      "source": [
        "# Solicitar entrada ao usuário\n",
        "print('Vamos calcular seu salário. Insira abaixo quanto você ganha por hora e o número de horas trabalhadas em um mês.')\n",
        "valor_por_hora = float(input('Valor ganho em cada hora trabalhada: R$ '))\n",
        "horas_trabalhadas = float(input('Número de horas: '))\n",
        "\n",
        "# Calcula o total do salário\n",
        "salario_mensal = valor_por_hora * horas_trabalhadas\n",
        "\n",
        "# Exibir o resultado\n",
        "print(f'Em um período de um mês seu salário é de R$ {salario_mensal:.2f}.')"
      ],
      "metadata": {
        "colab": {
          "base_uri": "https://localhost:8080/"
        },
        "id": "e4h5F9YS20PH",
        "outputId": "680dc37a-210d-4dde-a515-9f5c83b49092"
      },
      "execution_count": null,
      "outputs": [
        {
          "output_type": "stream",
          "name": "stdout",
          "text": [
            "Vamos calcular seu salário. Insira abaixo quanto você ganha por hora e o número de horas trabalhadas em um mês.\n",
            "Valor ganho em cada hora trabalhada: R$ 15\n",
            "Número de horas: 150\n",
            "Em um período de um mês seu salário é de R$ 2250.00.\n"
          ]
        }
      ]
    },
    {
      "cell_type": "markdown",
      "source": [
        "8. Solicite ao usuário o número de horas de exercício físico por semana.\n",
        "Calcule o total de calorias queimadas em um mês, considerando uma\n",
        "média de 5 calorias por minuto de exercício."
      ],
      "metadata": {
        "id": "lEW8IiAm20au"
      }
    },
    {
      "cell_type": "code",
      "source": [
        "# Solicitar entrada ao usuário\n",
        "horas_exercicio_semana = float(input('Insira quantas horas de exercício físico por semana você faz: '))\n",
        "\n",
        "# Converte para minutos\n",
        "minutos_exercicio_semana = horas_exercicio_semana * 60\n",
        "\n",
        "# Calcular o total de calorias gastas\n",
        "calorias_semana = minutos_exercicio_semana * 5\n",
        "\n",
        "# Calcular o total de calorias em um mês\n",
        "calorias_semana = calorias_semana * 4\n",
        "\n",
        "# Exibir o resultado\n",
        "print(f'Em um período de um mês (4 semenas) você gasta {calorias_semana} calorias.')"
      ],
      "metadata": {
        "id": "ChFz1D_G210b",
        "colab": {
          "base_uri": "https://localhost:8080/"
        },
        "outputId": "ad071708-579b-43ce-ad3c-c65504cc1096"
      },
      "execution_count": null,
      "outputs": [
        {
          "output_type": "stream",
          "name": "stdout",
          "text": [
            "Insira quantas horas de exercício físico por semana você faz: 6\n",
            "Em um período de um mês (4 semenas) você gasta 7200.0 calorias.\n"
          ]
        }
      ]
    },
    {
      "cell_type": "markdown",
      "source": [
        "9. Faça um Programa que utilize 4 variáveis como preferir e no final print\n",
        "uma mensagem amigável utilizando as variáveis criadas.\n",
        "Exemplos de variáveis: nome, idade, lugar, profissão ....\n",
        "Exemplo de retorno: Olá Maria, prazer te conhecer. Sou de São Paulo\n",
        "também e estou migrando de área.\n",
        "Lembrando que para o retorno vamos usar print com as variáveis\n",
        "criadas e este texto é somente um exemplo, utilizem a criatividade."
      ],
      "metadata": {
        "id": "zPGfyfDv22W2"
      }
    },
    {
      "cell_type": "code",
      "source": [
        "# Solicitar entrada ao usuário\n",
        "nome = str(input('Insira seu nome: '))\n",
        "idade = int(input('Insira sua idade: '))\n",
        "cidade = str(input('Insira sua cidade: '))\n",
        "profissao = str(input('Insira sua profissão: '))\n",
        "\n",
        "# Exibir o resultado\n",
        "print(f\"Olá, {nome}! Que legal saber que você tem {idade} anos e é {profissao}. Conheço {cidade} e também estou interessado nessa área. Vamos trocar ideias!\")"
      ],
      "metadata": {
        "id": "D6b7lSpD24QU",
        "colab": {
          "base_uri": "https://localhost:8080/"
        },
        "outputId": "165275ac-4196-4ba2-9d83-efad233db0e8"
      },
      "execution_count": null,
      "outputs": [
        {
          "output_type": "stream",
          "name": "stdout",
          "text": [
            "Insira seu nome: Natalia\n",
            "Insira sua idade: 30\n",
            "Insira sua cidade: Natal\n",
            "Insira sua profissão: programadora\n",
            "Olá, Natalia! Que legal saber que você tem 30 anos e é programadora. Conheço Natal e também estou interessado nessa área. Vamos trocar ideias!\n"
          ]
        }
      ]
    },
    {
      "cell_type": "markdown",
      "source": [
        "# Exercícios de Tomada de Decisão"
      ],
      "metadata": {
        "id": "uoctWXlMuSLA"
      }
    },
    {
      "cell_type": "markdown",
      "source": [
        "1. Faça um Programa que peça dois números e imprima o maior deles."
      ],
      "metadata": {
        "id": "36_jdeSJuZOV"
      }
    },
    {
      "cell_type": "code",
      "source": [
        "# Solicitar entrada ao usuário\n",
        "num1 = float(input('Digite o primeiro número: '))\n",
        "num2 = float(input('Digite o segundo número: '))\n",
        "\n",
        "# Verificar e exibir o resultado\n",
        "if num1 > num2:\n",
        "  print(f\"O maior número é o {num1}.\")\n",
        "else:\n",
        "  print(f\"O maior número é o {num2}.\")"
      ],
      "metadata": {
        "colab": {
          "base_uri": "https://localhost:8080/"
        },
        "id": "ox-zS6vGubTr",
        "outputId": "3717ae7a-1411-4430-eae7-aaad56ef3bc7"
      },
      "execution_count": null,
      "outputs": [
        {
          "output_type": "stream",
          "name": "stdout",
          "text": [
            "Digite o primeiro número: 5\n",
            "Digite o segundo número: 20\n",
            "O maior número é o 20.0.\n"
          ]
        }
      ]
    },
    {
      "cell_type": "markdown",
      "source": [
        "2. Faça um Programa que pergunte em que turno você estuda. Peça para\n",
        "digitar M-matutino ou V-Vespertino ou N- Noturno. Imprima a mensagem \"Bom\n",
        "Dia!\", \"Boa Tarde!\" ou \"Boa Noite!\" ou \"Valor Inválido!\", conforme o caso."
      ],
      "metadata": {
        "id": "Msooub-owLXc"
      }
    },
    {
      "cell_type": "code",
      "source": [
        "# Solicitar entrada ao usuário\n",
        "turno = input('Digite a letra correspondente ao turno em que você estuda (M-matutino, V-Vespertino, N-Noturno): ')\n",
        "\n",
        "# Verificar e exibir o resultado\n",
        "if turno == 'M':\n",
        "  print('Bom dia!')\n",
        "elif turno == 'V':\n",
        "  print('Boa tarde!')\n",
        "elif turno == 'N':\n",
        "  print('Boa noite!')\n",
        "else:\n",
        "  print('Valor inválido!')"
      ],
      "metadata": {
        "colab": {
          "base_uri": "https://localhost:8080/"
        },
        "id": "QPxAvT7YwPji",
        "outputId": "0eb7909c-0219-4356-a8c0-628c63eb33a3"
      },
      "execution_count": null,
      "outputs": [
        {
          "output_type": "stream",
          "name": "stdout",
          "text": [
            "Digite a letra correspondente ao turno em que você estuda (M-matutino, V-Vespertino, N-Noturno): N\n",
            "Boa noite!\n"
          ]
        }
      ]
    },
    {
      "cell_type": "markdown",
      "source": [
        "3. Faça um programa que peça uma nota, entre zero e dez. Mostre uma\n",
        "mensagem caso o valor seja inválido e continue pedindo até que o usuário\n",
        "informe um valor válido."
      ],
      "metadata": {
        "id": "P5wtRscWxFrB"
      }
    },
    {
      "cell_type": "code",
      "source": [
        "# Solicitar entrada ao usuário\n",
        "nota = float(input('Digite uma nota entre 0 e 10: '))\n",
        "\n",
        "# Verificar e exibir o resultado\n",
        "while nota <0 or nota > 10:\n",
        "  print('Nota inválida! Digite uma nota entre 0 e 10: ')\n",
        "  nota = float(input('Digite uma nota entre 0 e 10: '))\n",
        "\n",
        "print('Nota válida!')"
      ],
      "metadata": {
        "colab": {
          "base_uri": "https://localhost:8080/"
        },
        "id": "yqYxe6EcxDvs",
        "outputId": "49642b20-219f-437a-e27f-bb7cab92ec98"
      },
      "execution_count": null,
      "outputs": [
        {
          "output_type": "stream",
          "name": "stdout",
          "text": [
            "Digite uma nota entre 0 e 10: 20\n",
            "Nota inválida! Digite uma nota entre 0 e 10: \n",
            "Digite uma nota entre 0 e 10: 10\n",
            "Nota válida!\n"
          ]
        }
      ]
    },
    {
      "cell_type": "markdown",
      "source": [
        "4. Implemente um programa que classifique um aluno com base em sua\n",
        "pontuação em um exame. O programa deverá solicitar uma nota de 0 a 10. Se\n",
        "a pontuação for maior ou igual a 7, o aluno é aprovado; caso contrário, é\n",
        "reprovado."
      ],
      "metadata": {
        "id": "k-BDyBZv2ywx"
      }
    },
    {
      "cell_type": "code",
      "source": [
        "# Solicitar entrada ao usuário\n",
        "nota = float(input('Digite a nota do aluno (entre 0 e 10): '))\n",
        "\n",
        "# Verificar e exibir o resultado\n",
        "if nota >= 7:\n",
        "  print('Aluno aprovado.')\n",
        "else:\n",
        "  print('Aluno reprovado.')"
      ],
      "metadata": {
        "colab": {
          "base_uri": "https://localhost:8080/"
        },
        "id": "fI9TeeOa21iU",
        "outputId": "9ec9b4ff-7f93-4513-e2ca-b86c2d77b888"
      },
      "execution_count": null,
      "outputs": [
        {
          "output_type": "stream",
          "name": "stdout",
          "text": [
            "Digite a nota do aluno (entre 0 e 10): 9.5\n",
            "Aluno aprovado.\n"
          ]
        }
      ]
    },
    {
      "cell_type": "markdown",
      "source": [
        "5. Desenvolva um programa que solicite ao usuário os comprimentos dos três\n",
        "lados de um triângulo e classifique-o como equilátero, isósceles ou escaleno (equilátero: todos os lados com o mesmo valor; isósceles: dois lados com o mesmo valor; escaleno: todos os lados com medidas distintas)."
      ],
      "metadata": {
        "id": "wTbloqYf3qxs"
      }
    },
    {
      "cell_type": "code",
      "source": [
        "# Solicitar entrada ao usuário\n",
        "lado1 = float(input('Digite o comprimento do primeiro lado: '))\n",
        "lado2 = float(input('Digite o comprimento do segundo lado: '))\n",
        "lado3 = float(input('Digite o comprimento do terceiro lado: '))\n",
        "\n",
        "# Verificar e exibir o resultado\n",
        "if lado1 == lado2 == lado3:\n",
        "  print('Triângulo equilátero.')\n",
        "elif lado1 == lado2 or lado1 == lado3 or lado2 == lado3:\n",
        "  print('Triângulo isóceles.')\n",
        "else:\n",
        "  print('Triângulo escaleno.')"
      ],
      "metadata": {
        "colab": {
          "base_uri": "https://localhost:8080/"
        },
        "id": "OGAbIcJ03p_o",
        "outputId": "1a142a39-fc64-498a-c68a-4e0937774093"
      },
      "execution_count": null,
      "outputs": [
        {
          "output_type": "stream",
          "name": "stdout",
          "text": [
            "Digite o comprimento do primeiro lado: 10\n",
            "Digite o comprimento do segundo lado: 7\n",
            "Digite o comprimento do terceiro lado: 9\n",
            "Triângulo escaleno.\n"
          ]
        }
      ]
    },
    {
      "cell_type": "markdown",
      "source": [
        "6. Crie um programa que solicite ao usuário um login e uma senha. O\n",
        "programa deve permitir o acesso apenas se o usuário for \"admin\" e a senha\n",
        "for \"admin123\", caso contrário imprima uma mensagem de erro."
      ],
      "metadata": {
        "id": "MWMN6keW6koY"
      }
    },
    {
      "cell_type": "code",
      "source": [
        "# Solicitar entrada ao usuário\n",
        "login = input(\"Digite o login: \")\n",
        "senha = input(\"Digite a senha: \")\n",
        "\n",
        "# Verificar e exibir o resultado\n",
        "if login == \"admin\" and senha == \"admin123\":\n",
        "    print(\"Acesso permitido\")\n",
        "else:\n",
        "    print(\"Acesso negado\")"
      ],
      "metadata": {
        "colab": {
          "base_uri": "https://localhost:8080/"
        },
        "id": "4IumC5_N6oNr",
        "outputId": "914e0194-68f7-4bc9-9e75-29c4d7c2521c"
      },
      "execution_count": null,
      "outputs": [
        {
          "output_type": "stream",
          "name": "stdout",
          "text": [
            "Digite o login: admin\n",
            "Digite a senha: admin123\n",
            "Acesso permitido\n"
          ]
        }
      ]
    },
    {
      "cell_type": "markdown",
      "source": [
        "7. Desenvolver um programa que solicite a idade do usuário e identifique se\n",
        "ele é uma criança, um adolescente, adulto ou idoso."
      ],
      "metadata": {
        "id": "7UHj-_ui66Cq"
      }
    },
    {
      "cell_type": "code",
      "source": [
        "# Solicitar entrada ao usuário\n",
        "idade = int(input('Digite a sua idade: '))\n",
        "\n",
        "# Verificar e exibir o resultado\n",
        "if idade >= 0 and idade <= 12:\n",
        "  print('Você é uma criança.')\n",
        "elif idade > 12 and idade <= 18:\n",
        "  print('Você é um adolescente.')\n",
        "elif idade > 18 and idade <= 59:\n",
        "  print('Você é um adulto')\n",
        "else:\n",
        "  print('Você é um idoso.')"
      ],
      "metadata": {
        "colab": {
          "base_uri": "https://localhost:8080/"
        },
        "id": "j0zwBG7z7y4M",
        "outputId": "a44dcf5c-072f-4565-ac2d-48c8692bbc05"
      },
      "execution_count": null,
      "outputs": [
        {
          "output_type": "stream",
          "name": "stdout",
          "text": [
            "Digite a sua idade: 30\n",
            "Você é um adulto\n"
          ]
        }
      ]
    },
    {
      "cell_type": "markdown",
      "source": [
        "8. Criar um programa em Python que solicite três números ao usuário, utilize\n",
        "estruturas condicionais para determinar o maior entre eles e apresente o\n",
        "resultado."
      ],
      "metadata": {
        "id": "hzneHvJ39ItL"
      }
    },
    {
      "cell_type": "code",
      "source": [
        "# Solicitar entrada ao usuário\n",
        "num1 = float(input('Digite o primeiro número: '))\n",
        "num2 = float(input('Digite o segundo número: '))\n",
        "num3 = float(input('Digite o terceiro número: '))\n",
        "\n",
        "# Verificar e exibir o resultado\n",
        "if num1 > num2 and num1 > num3:\n",
        "  print(f'O maior número é o número {num1}.')\n",
        "elif num2 > num1 and num2 > num3:\n",
        "  print(f'O maior número é o número {num2}.')\n",
        "else:\n",
        "  print(f'O maior número é o número {num3}.')"
      ],
      "metadata": {
        "colab": {
          "base_uri": "https://localhost:8080/"
        },
        "id": "FUw-w-RK9LJa",
        "outputId": "f674cd8e-44a6-461c-c734-e96dcac6eb60"
      },
      "execution_count": null,
      "outputs": [
        {
          "output_type": "stream",
          "name": "stdout",
          "text": [
            "Digite o primeiro número: 1\n",
            "Digite o segundo número: 2\n",
            "Digite o terceiro número: 3\n",
            "O maior número é o número 3.0.\n"
          ]
        }
      ]
    },
    {
      "cell_type": "markdown",
      "source": [
        "9. O programa deve calcular e apresentar a quantidade de números pares e\n",
        "ímpares inseridos. O processo de leitura deve ser encerrado quando o usuário\n",
        "informar o valor zero. Certifique-se de incluir validações para garantir que\n",
        "apenas números positivos sejam considerados na contagem e cálculos."
      ],
      "metadata": {
        "id": "qwioDijP9620"
      }
    },
    {
      "cell_type": "code",
      "source": [
        "# Criar lista\n",
        "pares = 0\n",
        "impares = 0\n",
        "\n",
        "# Criar loop para receber os números e armazenar na lista\n",
        "while True:\n",
        "    numero = int(input(\"Digite um número (0 para sair): \"))\n",
        "    if numero == 0:\n",
        "        break\n",
        "    elif numero < 0:\n",
        "        print(\"Apenas números positivos são considerados.\")\n",
        "    elif numero % 2 == 0:\n",
        "        pares += 1\n",
        "    else:\n",
        "        impares += 1\n",
        "\n",
        "#Exibir os resultados\n",
        "print(f'Quantidade de números pares: {pares}')\n",
        "print(f'Quantidade de números ímpares: {impares}')"
      ],
      "metadata": {
        "colab": {
          "base_uri": "https://localhost:8080/"
        },
        "id": "dl3Ge8nL9_Uq",
        "outputId": "84e642f8-7393-4a3d-983f-d5bc41db6d28"
      },
      "execution_count": null,
      "outputs": [
        {
          "output_type": "stream",
          "name": "stdout",
          "text": [
            "Digite um número (0 para sair): 1\n",
            "Digite um número (0 para sair): 2\n",
            "Digite um número (0 para sair): 3\n",
            "Digite um número (0 para sair): 0\n",
            "Quantidade de números pares: 1\n",
            "Quantidade de números ímpares: 2\n"
          ]
        }
      ]
    },
    {
      "cell_type": "markdown",
      "source": [
        "10. Faça um programa que lê três números inteiros e os mostra em ordem\n",
        "crescente."
      ],
      "metadata": {
        "id": "O9OUF766_Nwn"
      }
    },
    {
      "cell_type": "code",
      "source": [
        "# Solicitar entrada ao usuário\n",
        "num1 = int(input(\"Digite o primeiro número: \"))\n",
        "num2 = int(input(\"Digite o segundo número: \"))\n",
        "num3 = int(input(\"Digite o terceiro número: \"))\n",
        "\n",
        "# Ordenar a lista em ordem crescente\n",
        "numeros = [num1, num2, num3]\n",
        "numeros.sort()\n",
        "\n",
        "#Exibir o resultado\n",
        "print(f'Números em ordem crescente: {numeros}')"
      ],
      "metadata": {
        "colab": {
          "base_uri": "https://localhost:8080/"
        },
        "id": "6r0KhKIs_QEr",
        "outputId": "a6b0e422-001c-4ad0-e602-afb9a91b03ce"
      },
      "execution_count": null,
      "outputs": [
        {
          "output_type": "stream",
          "name": "stdout",
          "text": [
            "Digite o primeiro número: 3\n",
            "Digite o segundo número: 1\n",
            "Digite o terceiro número: 2\n",
            "Números em ordem crescente: [1, 2, 3]\n"
          ]
        }
      ]
    },
    {
      "cell_type": "markdown",
      "source": [
        "11. Escreva um programa que calcule o salário líquido. Lembrando de\n",
        "declarar o salário bruto e o percentual de desconto do Imposto de Renda.\n",
        "\n",
        "- Renda até R$ 1.903,98: isento de imposto de renda;\n",
        "\n",
        "- Renda entre R$ 1.903,99 e R$ 2.826,65: alíquota de 7,5%;\n",
        "\n",
        "- Renda entre R$ 2.826,66 e R$ 3.751,05: alíquota de 15%;\n",
        "\n",
        "- Renda entre R$ 3.751,06 e R$ 4.664,68: alíquota de 22,5%;\n",
        "\n",
        "- Renda acima de R$ 4.664,68: alíquota máxima de negrito27,5%."
      ],
      "metadata": {
        "id": "mQVYQaoP_5Ss"
      }
    },
    {
      "cell_type": "code",
      "source": [
        "# Solicitar entrada ao usuário\n",
        "salario_bruto = float(input('Digite o salário bruto: '))\n",
        "\n",
        "# Verificar as condições\n",
        "if salario_bruto <= 1903.98:\n",
        "    imposto = 0\n",
        "elif salario_bruto <= 2826.65:\n",
        "    imposto = salario_bruto * 0.075\n",
        "elif salario_bruto <= 3751.05:\n",
        "    imposto = salario_bruto * 0.15\n",
        "elif salario_bruto <= 4664.68:\n",
        "    imposto = salario_bruto * 0.225\n",
        "else:\n",
        "    imposto = salario_bruto * 0.275\n",
        "\n",
        "# Calcular o imposto sobre o valor do salário bruto\n",
        "salario_liquido = salario_bruto - imposto\n",
        "\n",
        "#Exibir o resultado\n",
        "print('Salário líquido: R$', round(salario_liquido, 2))"
      ],
      "metadata": {
        "colab": {
          "base_uri": "https://localhost:8080/"
        },
        "id": "L5SraK9PACIo",
        "outputId": "b725a157-1893-475c-dc77-00444b073169"
      },
      "execution_count": null,
      "outputs": [
        {
          "output_type": "stream",
          "name": "stdout",
          "text": [
            "Digite o salário bruto: 2400\n",
            "Salário líquido: R$ 2220.0\n"
          ]
        }
      ]
    },
    {
      "cell_type": "markdown",
      "source": [
        "# Exercícios de Tuplas, Listas e Dicionários"
      ],
      "metadata": {
        "id": "vw3SmlokKmuc"
      }
    },
    {
      "cell_type": "markdown",
      "source": [
        "1. Utilizando listas faça um programa que faça 5 perguntas para uma\n",
        "pessoa sobre um crime. As perguntas são: \"Telefonou para a vítima?\", \"Esteve no local do crime?\", \"Mora perto da vítima?\", \"Devia para a vítima?\" e \"Já trabalhou com a vítima?\".\n",
        "\n",
        "O programa deve no final emitir uma classificação sobre a participação\n",
        "da pessoa no crime. Se a pessoa responder positivamente a 2 questões ela deve ser classificada como \"\"Suspeita\"\", entre 3 e 4 como \"\"Cúmplice\"\" e 5 como\n",
        "\"\"Assassino\"\". Caso contrário,ele será classificado como\"\"Inocente\"\"."
      ],
      "metadata": {
        "id": "1P6gnn4KKr9x"
      }
    },
    {
      "cell_type": "code",
      "source": [
        "# Lista de perguntas\n",
        "perguntas = [\n",
        "    \"Telefonou para a vítima?\",\n",
        "    \"Esteve no local do crime?\",\n",
        "    \"Mora perto da vítima?\",\n",
        "    \"Devia para a vítima?\",\n",
        "    \"Já trabalhou com a vítima?\"\n",
        "]\n",
        "\n",
        "# Contador de respostas positivas\n",
        "respostas_positivas = 0\n",
        "\n",
        "# Perguntar para o usuário e coletar as respostas\n",
        "for pergunta in perguntas:\n",
        "    resposta = input(pergunta + \" (sim/não): \").strip().lower()\n",
        "    if resposta == 'sim':\n",
        "        respostas_positivas += 1\n",
        "\n",
        "# Classificar as respostas de acordo com o perfil\n",
        "if respostas_positivas == 2:\n",
        "    print(\"Classificação: Suspeita\")\n",
        "elif 3 <= respostas_positivas <= 4:\n",
        "    print(\"Classificação: Cúmplice\")\n",
        "elif respostas_positivas == 5:\n",
        "    print(\"Classificação: Assassino\")\n",
        "else:\n",
        "    print(\"Classificação: Inocente\")"
      ],
      "metadata": {
        "colab": {
          "base_uri": "https://localhost:8080/"
        },
        "id": "ycM0Xb1DLCqu",
        "outputId": "fcc0ab1c-7b98-4ec6-ae12-269f380ccd3b"
      },
      "execution_count": null,
      "outputs": [
        {
          "output_type": "stream",
          "name": "stdout",
          "text": [
            "Telefonou para a vítima? (sim/não): Sim\n",
            "Esteve no local do crime? (sim/não): Não\n",
            "Mora perto da vítima? (sim/não): Não\n",
            "Devia para a vítima? (sim/não): Não\n",
            "Já trabalhou com a vítima? (sim/não): Não\n",
            "Classificação: Inocente\n"
          ]
        }
      ]
    },
    {
      "cell_type": "markdown",
      "source": [
        "2. Faça um Programa que peça as quatro notas de 5 alunos, calcule\n",
        "e armazene numa lista a média de cada aluno, imprima o número\n",
        "de alunos com média maior ou igual a 7.0."
      ],
      "metadata": {
        "id": "dNbIoMyILD10"
      }
    },
    {
      "cell_type": "code",
      "source": [
        "# Lista para armazenar as médias\n",
        "medias = []\n",
        "\n",
        "# Coletar as notas dos alunos e calcular as médias\n",
        "for i in range(5):\n",
        "    print(f\"Aluno {i+1}:\")\n",
        "    notas = []\n",
        "    for j in range(4):\n",
        "        nota = float(input(f\"Digite a nota {j+1}: \"))\n",
        "        notas.append(nota)\n",
        "    media = sum(notas) / len(notas)\n",
        "    medias.append(media)\n",
        "\n",
        "# Conta quantos alunos têm média maior ou igual a 7.0\n",
        "alunos_aprovados = sum(1 for media in medias if media >= 7.0)\n",
        "print(f\"Número de alunos com média maior ou igual a 7.0: {alunos_aprovados}\")"
      ],
      "metadata": {
        "colab": {
          "base_uri": "https://localhost:8080/"
        },
        "id": "B5vUGa9VLFy1",
        "outputId": "49fadd1e-63b0-4926-83cd-3922b61a64c8"
      },
      "execution_count": null,
      "outputs": [
        {
          "output_type": "stream",
          "name": "stdout",
          "text": [
            "Aluno 1:\n",
            "Digite a nota 1: 7\n",
            "Digite a nota 2: 9\n",
            "Digite a nota 3: 6.4\n",
            "Digite a nota 4: 7\n",
            "Aluno 2:\n",
            "Digite a nota 1: 8\n",
            "Digite a nota 2: 9\n",
            "Digite a nota 3: 7\n",
            "Digite a nota 4: 6.8\n",
            "Aluno 3:\n",
            "Digite a nota 1: 8.9\n",
            "Digite a nota 2: 8\n",
            "Digite a nota 3: 7.4\n",
            "Digite a nota 4: 9\n",
            "Aluno 4:\n",
            "Digite a nota 1: 6\n",
            "Digite a nota 2: 7\n",
            "Digite a nota 3: 9\n",
            "Digite a nota 4: 7\n",
            "Aluno 5:\n",
            "Digite a nota 1: 6\n",
            "Digite a nota 2: 7\n",
            "Digite a nota 3: 8\n",
            "Digite a nota 4: 6\n",
            "Número de alunos com média maior ou igual a 7.0: 4\n"
          ]
        }
      ]
    },
    {
      "cell_type": "markdown",
      "source": [
        "3. Crie um dicionário representando um carrinho de compras.\n",
        "Adicione produtos (chaves) e quantidades (valores) ao carrinho.\n",
        "Calcule o total do carrinho de compra."
      ],
      "metadata": {
        "id": "z4C2rfkKLF-d"
      }
    },
    {
      "cell_type": "code",
      "source": [
        "# Dicionário para armazenar o carrinho de compras\n",
        "carrinho = {}\n",
        "\n",
        "# Adiciona produtos e quantidades ao carrinho\n",
        "while True:\n",
        "    produto = input(\"Digite o nome do produto (ou 'sair' para finalizar): \").strip()\n",
        "    if produto.lower() == 'sair':\n",
        "        break\n",
        "    quantidade = int(input(f\"Digite a quantidade de {produto}: \"))\n",
        "    carrinho[produto] = carrinho.get(produto, 0) + quantidade\n",
        "\n",
        "# Calcula o total do carrinho\n",
        "total = sum(carrinho.values())\n",
        "print(f\"Total de itens no carrinho: {total}\")"
      ],
      "metadata": {
        "colab": {
          "base_uri": "https://localhost:8080/"
        },
        "id": "O24ezssfLIUh",
        "outputId": "6f62f638-5e59-45ae-ae80-e9a42e4892f8"
      },
      "execution_count": null,
      "outputs": [
        {
          "output_type": "stream",
          "name": "stdout",
          "text": [
            "Digite o nome do produto (ou 'sair' para finalizar): Maçã\n",
            "Digite a quantidade de Maçã: 10\n",
            "Digite o nome do produto (ou 'sair' para finalizar): sair\n",
            "Total de itens no carrinho: 10\n"
          ]
        }
      ]
    },
    {
      "cell_type": "markdown",
      "source": [
        "4. Crie um dicionário representando contatos (nome, telefone).\n",
        "Permita ao usuário procurar por um contato pelo nome."
      ],
      "metadata": {
        "id": "Dav-oHEGLIe7"
      }
    },
    {
      "cell_type": "code",
      "source": [
        "# Dicionário para armazenar os contatos\n",
        "contatos = {}\n",
        "\n",
        "# Adiciona contatos\n",
        "while True:\n",
        "    nome = input(\"Digite o nome do contato (ou 'sair' para finalizar): \").strip()\n",
        "    if nome.lower() == 'sair':\n",
        "        break\n",
        "    telefone = input(f\"Digite o telefone de {nome}: \")\n",
        "    contatos[nome] = telefone\n",
        "\n",
        "# Busca por um contato pelo nome\n",
        "nome_busca = input(\"Digite o nome do contato que deseja buscar: \").strip()\n",
        "telefone = contatos.get(nome_busca)\n",
        "if telefone:\n",
        "    print(f\"Telefone de {nome_busca}: {telefone}\")\n",
        "else:\n",
        "    print(f\"Contato {nome_busca} não encontrado.\")"
      ],
      "metadata": {
        "colab": {
          "base_uri": "https://localhost:8080/"
        },
        "id": "ggUnoc_pLJ5u",
        "outputId": "d4dd50bc-71d5-4eb7-e732-eeb7077671ba"
      },
      "execution_count": null,
      "outputs": [
        {
          "output_type": "stream",
          "name": "stdout",
          "text": [
            "Digite o nome do contato (ou 'sair' para finalizar): Rodrigo\n",
            "Digite o telefone de Rodrigo: 849999999\n",
            "Digite o nome do contato (ou 'sair' para finalizar): sair\n",
            "Digite o nome do contato que deseja buscar: Rodrigo\n",
            "Telefone de Rodrigo: 849999999\n"
          ]
        }
      ]
    },
    {
      "cell_type": "markdown",
      "source": [
        "5. Crie duas tuplas. Concatene-as para formar uma nova tupla."
      ],
      "metadata": {
        "id": "TXqFcggNLKN7"
      }
    },
    {
      "cell_type": "code",
      "source": [
        "# Cria duas tuplas\n",
        "tupla1 = tuple(input(\"Digite os elementos da primeira tupla, separados por espaço: \").split())\n",
        "tupla2 = tuple(input(\"Digite os elementos da segunda tupla, separados por espaço: \").split())\n",
        "\n",
        "# Concatena as tuplas\n",
        "tupla_concatenada = tupla1 + tupla2\n",
        "print(f\"Nova tupla concatenada: {tupla_concatenada}\")"
      ],
      "metadata": {
        "colab": {
          "base_uri": "https://localhost:8080/"
        },
        "id": "3yGra4ZZLLu8",
        "outputId": "15ec09ee-2806-4fed-9b38-b0b138b748bb"
      },
      "execution_count": null,
      "outputs": [
        {
          "output_type": "stream",
          "name": "stdout",
          "text": [
            "Digite os elementos da primeira tupla, separados por espaço: Bijout Tulipa\n",
            "Digite os elementos da segunda tupla, separados por espaço: Tangerina\n",
            "Nova tupla concatenada: ('Bijout', 'Tulipa', 'Tangerina')\n"
          ]
        }
      ]
    },
    {
      "cell_type": "markdown",
      "source": [
        "6. Faça um programa que permita ao usuário digitar o seu nome e\n",
        "em seguida mostre o nome do usuário de trás para frente\n",
        "utilizando somente letras maiúsculas. Dica: lembre−se que ao\n",
        "informar o nome o usuário pode digitar letras maiúsculas ou\n",
        "minúsculas."
      ],
      "metadata": {
        "id": "tvgksrKjLL6N"
      }
    },
    {
      "cell_type": "code",
      "source": [
        "# Solicita o nome do usuário\n",
        "nome = input(\"Digite o seu nome: \").strip()\n",
        "\n",
        "# Inverte o nome e converte para maiúsculas\n",
        "nome_invertido = nome[::-1].upper()\n",
        "print(f\"Seu nome de trás para frente é: {nome_invertido}\")"
      ],
      "metadata": {
        "colab": {
          "base_uri": "https://localhost:8080/"
        },
        "id": "K58jC9C7LNFd",
        "outputId": "59c2e964-abcc-414e-efea-a2e1afcf6fd0"
      },
      "execution_count": null,
      "outputs": [
        {
          "output_type": "stream",
          "name": "stdout",
          "text": [
            "Digite o seu nome: Natalia\n",
            "Seu nome de trás para frente é: AILATAN\n"
          ]
        }
      ]
    },
    {
      "cell_type": "markdown",
      "source": [
        "# Exercícios Funções"
      ],
      "metadata": {
        "id": "69qvoy4oVtUt"
      }
    },
    {
      "cell_type": "markdown",
      "source": [
        "1. Faça um programa, com uma função que necessite de três\n",
        "argumentos, e que forneça a soma desses três argumentos."
      ],
      "metadata": {
        "id": "kRmtly6TVw4y"
      }
    },
    {
      "cell_type": "code",
      "source": [
        "# Criar a função que recebe os três argumentos e retorna a soma\n",
        "def soma_tres_numeros(a, b, c):\n",
        "    return a + b + c\n",
        "\n",
        "# Solicitar a entrada ao usuário\n",
        "numero1 = float(input(\"Digite o primeiro número: \"))\n",
        "numero2 = float(input(\"Digite o segundo número: \"))\n",
        "numero3 = float(input(\"Digite o terceiro número: \"))\n",
        "\n",
        "# Chamar a função\n",
        "resultado = soma_tres_numeros(numero1, numero2, numero3)\n",
        "\n",
        "# Exibir o resultado\n",
        "print(f\"A soma dos três números é: {resultado}\")"
      ],
      "metadata": {
        "colab": {
          "base_uri": "https://localhost:8080/"
        },
        "id": "qvbPUxbBVvGO",
        "outputId": "364b470b-70ee-469c-b1e8-ba88a3627eea"
      },
      "execution_count": null,
      "outputs": [
        {
          "output_type": "stream",
          "name": "stdout",
          "text": [
            "Digite o primeiro número: 10\n",
            "Digite o segundo número: 4\n",
            "Digite o terceiro número: 6\n",
            "A soma dos três números é: 20.0\n"
          ]
        }
      ]
    },
    {
      "cell_type": "markdown",
      "source": [
        "2. Reverso do número. Faça uma função que retorne o reverso de um\n",
        "número inteiro informado. Por exemplo: 127 -> 721."
      ],
      "metadata": {
        "id": "7RDhF6_dVzW1"
      }
    },
    {
      "cell_type": "code",
      "source": [
        "# Criar a função que retorna o reverso de um número inteiro\n",
        "def reverso_numero(n):\n",
        "    return int(str(n)[::-1])  # Converte o número para string, reverte a string, e depois converte de volta para inteiro\n",
        "\n",
        "# Solicitar a entrada ao usuário\n",
        "numero = int(input(\"Digite um número inteiro: \"))\n",
        "\n",
        "# Chamar a função\n",
        "resultado = reverso_numero(numero)\n",
        "\n",
        "# Exibir o resultado\n",
        "print(f\"O reverso do número {numero} é: {resultado}\")"
      ],
      "metadata": {
        "colab": {
          "base_uri": "https://localhost:8080/"
        },
        "id": "SXl0g9qeV1DC",
        "outputId": "162e2de4-a91a-447a-e713-d55dce011c40"
      },
      "execution_count": null,
      "outputs": [
        {
          "output_type": "stream",
          "name": "stdout",
          "text": [
            "Digite um número inteiro: 321\n",
            "O reverso do número 321 é: 123\n"
          ]
        }
      ]
    },
    {
      "cell_type": "markdown",
      "source": [
        "3. Escreva um script que pergunta ao usuário se ele deseja converter\n",
        "uma temperatura de grau Celsius para Fahrenheit ou vice-versa. Para\n",
        "cada opção, crie uma função.\n",
        "\n",
        "Plus: Crie uma terceira, que é um menu para o usuário escolher a opção\n",
        "desejada, onde esse menu chama a função de conversão correta."
      ],
      "metadata": {
        "id": "jg-LJhCQV1Se"
      }
    },
    {
      "cell_type": "code",
      "source": [
        "# Criar a função para converter Celsius para Fahrenheit\n",
        "def celsius_para_fahrenheit(celsius):\n",
        "    return (celsius * 9/5) + 32\n",
        "\n",
        "# Criar a função para converter Fahrenheit para Celsius\n",
        "def fahrenheit_para_celsius(fahrenheit):\n",
        "    return (fahrenheit - 32) * 5/9\n",
        "\n",
        "# Perguntando ao usuário qual conversão ele deseja fazer\n",
        "print(\"Escolha uma opção:\")\n",
        "print(\"1. Converter Celsius para Fahrenheit\")\n",
        "print(\"2. Converter Fahrenheit para Celsius\")\n",
        "opcao = input(\"Digite 1 ou 2: \")\n",
        "\n",
        "# Verificando a escolha e chamando a função correspondente\n",
        "if opcao == '1':\n",
        "    celsius = float(input(\"Digite a temperatura em Celsius: \"))\n",
        "    resultado = celsius_para_fahrenheit(celsius)\n",
        "    print(f\"{celsius}°C é equivalente a {resultado}°F\")\n",
        "elif opcao == '2':\n",
        "    fahrenheit = float(input(\"Digite a temperatura em Fahrenheit: \"))\n",
        "    resultado = fahrenheit_para_celsius(fahrenheit)\n",
        "    print(f\"{fahrenheit}°F é equivalente a {resultado}°C\")\n",
        "else:\n",
        "    print(\"Opção inválida. Tente novamente.\")"
      ],
      "metadata": {
        "colab": {
          "base_uri": "https://localhost:8080/"
        },
        "id": "68VzXy7OV3Ke",
        "outputId": "9e22361f-6c65-4815-8cc1-1ec9d0b60249"
      },
      "execution_count": null,
      "outputs": [
        {
          "output_type": "stream",
          "name": "stdout",
          "text": [
            "Escolha uma opção:\n",
            "1. Converter Celsius para Fahrenheit\n",
            "2. Converter Fahrenheit para Celsius\n",
            "Digite 1 ou 2: 1\n",
            "Digite a temperatura em Celsius: 30\n",
            "30.0°C é equivalente a 86.0°F\n"
          ]
        }
      ]
    },
    {
      "cell_type": "markdown",
      "source": [
        "4. Crie um programa que leia quanto dinheiro uma pessoa tem na\n",
        "carteira, e calcule quanto poderia comprar de cada moeda estrangeira."
      ],
      "metadata": {
        "id": "nix3bp4XV3Xx"
      }
    },
    {
      "cell_type": "code",
      "source": [
        "# Criar a função que faz as conversões e exibe o resultado\n",
        "def conversao_moedas(valor_reais):\n",
        "    # Taxas de conversão\n",
        "    dolar_americano = 4.91\n",
        "    peso_argentino = 0.02\n",
        "    dolar_australiano = 3.18\n",
        "    dolar_canadense = 3.64\n",
        "    franco_suico = 0.42\n",
        "    euro = 5.36\n",
        "    libra_esterlina = 6.21\n",
        "\n",
        "    # Convertendo o valor para cada moeda\n",
        "    valor_dolar_americano = valor_reais / dolar_americano\n",
        "    valor_peso_argentino = valor_reais / peso_argentino\n",
        "    valor_dolar_australiano = valor_reais / dolar_australiano\n",
        "    valor_dolar_canadense = valor_reais / dolar_canadense\n",
        "    valor_franco_suico = valor_reais / franco_suico\n",
        "    valor_euro = valor_reais / euro\n",
        "    valor_libra_esterlina = valor_reais / libra_esterlina\n",
        "\n",
        "    # Exibindo os resultados\n",
        "    print(f\"Com R${valor_reais:.2f}, você pode comprar:\")\n",
        "    print(f\"{valor_dolar_americano:.2f} Dólares Americanos\")\n",
        "    print(f\"{valor_peso_argentino:.2f} Pesos Argentinos\")\n",
        "    print(f\"{valor_dolar_australiano:.2f} Dólares Australianos\")\n",
        "    print(f\"{valor_dolar_canadense:.2f} Dólares Canadenses\")\n",
        "    print(f\"{valor_franco_suico:.2f} Francos Suíços\")\n",
        "    print(f\"{valor_euro:.2f} Euros\")\n",
        "    print(f\"{valor_libra_esterlina:.2f} Libras Esterlinas\")\n",
        "\n",
        "# Solicitando ao usuário o valor em reais\n",
        "valor = float(input(\"Quanto dinheiro você tem na carteira (em R$)? \"))\n",
        "\n",
        "# Chamando a função para calcular as conversões\n",
        "conversao_moedas(valor)"
      ],
      "metadata": {
        "colab": {
          "base_uri": "https://localhost:8080/"
        },
        "id": "JyLoZ5USWI8g",
        "outputId": "012f4bba-9e7b-4d69-f946-7dafeedfd5b3"
      },
      "execution_count": null,
      "outputs": [
        {
          "output_type": "stream",
          "name": "stdout",
          "text": [
            "Quanto dinheiro você tem na carteira (em R$)? 20\n",
            "Com R$20.00, você pode comprar:\n",
            "4.07 Dólares Americanos\n",
            "1000.00 Pesos Argentinos\n",
            "6.29 Dólares Australianos\n",
            "5.49 Dólares Canadenses\n",
            "47.62 Francos Suíços\n",
            "3.73 Euros\n",
            "3.22 Libras Esterlinas\n"
          ]
        }
      ]
    },
    {
      "cell_type": "markdown",
      "source": [
        "5. Crie uma função chamada contar_vogais que recebe uma string\n",
        "como parâmetro. Implemente a lógica para contar o número de vogais\n",
        "na string e retorne o total de vogais. Solicite ao usuário para inserir uma\n",
        "frase e utilize a função para contar as vogais."
      ],
      "metadata": {
        "id": "Vm7fB0JSWJg2"
      }
    },
    {
      "cell_type": "code",
      "source": [
        "# Função que conta o número de vogais em uma string\n",
        "def contar_vogais(frase):\n",
        "    vogais = \"aeiouAEIOUáéíóúÁÉÍÓÚãõÃÕâêîôûÂÊÎÔÛ\"\n",
        "    contador = 0\n",
        "\n",
        "    # Loop para verificar cada caractere na frase\n",
        "    for letra in frase:\n",
        "        if letra in vogais:  # Se o caractere for uma vogal, incrementa o contador\n",
        "            contador += 1\n",
        "\n",
        "    return contador\n",
        "\n",
        "# Solicitando ao usuário que insira uma frase\n",
        "frase_usuario = input(\"Digite uma frase: \")\n",
        "\n",
        "# Chamando a função para contar as vogais\n",
        "total_vogais = contar_vogais(frase_usuario)\n",
        "\n",
        "# Exibindo o resultado\n",
        "print(f\"A frase contém {total_vogais} vogais.\")"
      ],
      "metadata": {
        "colab": {
          "base_uri": "https://localhost:8080/"
        },
        "id": "kCx9w9_dWXIY",
        "outputId": "778b48ac-44f4-46f8-cb3a-f9a72aa095d0"
      },
      "execution_count": null,
      "outputs": [
        {
          "output_type": "stream",
          "name": "stdout",
          "text": [
            "Digite uma frase: ímã\n",
            "A frase contém 2 vogais.\n"
          ]
        }
      ]
    },
    {
      "cell_type": "markdown",
      "source": [
        "6. Vamos construir um jogo de forca. O programa escolherá\n",
        "aleatoriamente uma palavra secreta de uma lista predefinida. A palavra\n",
        "secreta será representada por espaços em branco, um para cada letra da palavra. O jogador terá um número limitado de 6 tentativas. Em cada\n",
        "tentativa, o jogador pode fornecer uma letra. Se a letra estiver presente\n",
        "na palavra secreta, ela será revelada nas posições correspondentes. Se\n",
        "a letra não estiver na palavra, uma mensagem de erro deverá ser\n",
        "informada. Após um número máximo de erros, o jogador perde. O jogo\n",
        "continua até que o jogador adivinhe a palavra ou exceda o número\n",
        "máximo de tentativas.\n",
        "Dica: Você precisará importar uma biblioteca para resolver esse\n",
        "exercício."
      ],
      "metadata": {
        "id": "a8mLkEKEWXdO"
      }
    },
    {
      "cell_type": "code",
      "source": [
        "import random\n",
        "\n",
        "# Lista de palavras predefinidas\n",
        "palavras = ['python', 'dados', 'ciencia', 'computador', 'estatistica', 'analise']\n",
        "\n",
        "# Função para escolher uma palavra aleatória\n",
        "def escolher_palavra():\n",
        "    return random.choice(palavras)\n",
        "\n",
        "# Função principal do jogo de forca\n",
        "def jogo_forca():\n",
        "    palavra_secreta = escolher_palavra()\n",
        "    letras_descobertas = ['_' for _ in palavra_secreta]  # Iniciando com todas as letras ocultas\n",
        "    tentativas_restantes = 6  # Número máximo de tentativas\n",
        "    letras_erradas = []  # Lista para armazenar letras incorretas\n",
        "\n",
        "    print(\"Bem-vindo ao jogo de Forca!\")\n",
        "    print(\"Você tem 6 tentativas para adivinhar a palavra.\")\n",
        "\n",
        "    while tentativas_restantes > 0 and '_' in letras_descobertas:\n",
        "        print(\"\\nPalavra: \" + ' '.join(letras_descobertas))\n",
        "        print(f\"Tentativas restantes: {tentativas_restantes}\")\n",
        "        print(f\"Letras erradas: {', '.join(letras_erradas)}\")\n",
        "\n",
        "        # Solicitar uma letra ao jogador\n",
        "        letra = input(\"Digite uma letra: \").lower()\n",
        "\n",
        "        if letra in letras_descobertas or letra in letras_erradas:\n",
        "            print(\"Você já tentou essa letra. Tente outra.\")\n",
        "            continue\n",
        "\n",
        "        if letra in palavra_secreta:\n",
        "            print(f\"Boa! A letra '{letra}' está na palavra.\")\n",
        "            # Revelando as letras corretas\n",
        "            for idx, caractere in enumerate(palavra_secreta):\n",
        "                if caractere == letra:\n",
        "                    letras_descobertas[idx] = letra\n",
        "        else:\n",
        "            print(f\"A letra '{letra}' não está na palavra.\")\n",
        "            letras_erradas.append(letra)\n",
        "            tentativas_restantes -= 1\n",
        "\n",
        "    # Verificando se o jogador venceu ou perdeu\n",
        "    if '_' not in letras_descobertas:\n",
        "        print(\"\\nParabéns! Você adivinhou a palavra:\", palavra_secreta)\n",
        "    else:\n",
        "        print(\"\\nGame Over! Você excedeu o número de tentativas.\")\n",
        "        print(f\"A palavra era: {palavra_secreta}\")\n",
        "\n",
        "# Executando o jogo\n",
        "jogo_forca()"
      ],
      "metadata": {
        "colab": {
          "base_uri": "https://localhost:8080/"
        },
        "id": "64ofnKOoWdFl",
        "outputId": "32c74ec0-5134-4489-fb13-ef3bc083bbc3"
      },
      "execution_count": null,
      "outputs": [
        {
          "output_type": "stream",
          "name": "stdout",
          "text": [
            "Bem-vindo ao jogo de Forca!\n",
            "Você tem 6 tentativas para adivinhar a palavra.\n",
            "\n",
            "Palavra: _ _ _ _ _ _ _\n",
            "Tentativas restantes: 6\n",
            "Letras erradas: \n",
            "Digite uma letra: a\n",
            "Boa! A letra 'a' está na palavra.\n",
            "\n",
            "Palavra: _ _ _ _ _ _ a\n",
            "Tentativas restantes: 6\n",
            "Letras erradas: \n",
            "Digite uma letra: i\n",
            "Boa! A letra 'i' está na palavra.\n",
            "\n",
            "Palavra: _ i _ _ _ i a\n",
            "Tentativas restantes: 6\n",
            "Letras erradas: \n",
            "Digite uma letra: c\n",
            "Boa! A letra 'c' está na palavra.\n",
            "\n",
            "Palavra: c i _ _ c i a\n",
            "Tentativas restantes: 6\n",
            "Letras erradas: \n",
            "Digite uma letra: e\n",
            "Boa! A letra 'e' está na palavra.\n",
            "\n",
            "Palavra: c i e _ c i a\n",
            "Tentativas restantes: 6\n",
            "Letras erradas: \n",
            "Digite uma letra: n\n",
            "Boa! A letra 'n' está na palavra.\n",
            "\n",
            "Parabéns! Você adivinhou a palavra: ciencia\n"
          ]
        }
      ]
    },
    {
      "cell_type": "markdown",
      "source": [
        "# Orientação a Objetos com Python"
      ],
      "metadata": {
        "id": "wvvoyZkDWaBM"
      }
    },
    {
      "cell_type": "markdown",
      "source": [
        "## Parte 1"
      ],
      "metadata": {
        "id": "c_Za4g_C6wX0"
      }
    },
    {
      "cell_type": "markdown",
      "source": [
        "1. Crie uma classe que modele o objeto \"carro\". Um carro que tenha os seguintes atributos: ligado, cor, modelo, velocidade. Um carro que tenha os seguintes comportamentos: liga, desliga, acelera, desacelera."
      ],
      "metadata": {
        "id": "kJ2rhef-Wy-4"
      }
    },
    {
      "cell_type": "code",
      "source": [
        "class Carro:\n",
        "  def __init__(self, cor, modelo):\n",
        "    self.ligado = False\n",
        "    self.cor = cor\n",
        "    self.modelo = modelo\n",
        "    self.velocidade = 0\n",
        "\n",
        "  def liga(self):\n",
        "    if not self.ligado:\n",
        "      self.ligado = True\n",
        "      print(f\"O carro {self.modelo} está agora ligado.\")\n",
        "    else:\n",
        "      print(f\"O carro {self.modelo} já está ligado.\")\n",
        "\n",
        "  def desliga(self):\n",
        "    if self.ligado:\n",
        "      self.ligado = False\n",
        "      self.velocidade = 0\n",
        "      print(f\"O carro {self.modelo} está agora desligado.\")\n",
        "    else:\n",
        "      print(f\"O carro {self.modelo} já está desligado.\")\n",
        "\n",
        "  def acelera(self):\n",
        "    if self.ligado:\n",
        "      self.velocidade += 10\n",
        "      print(f\"O carro {self.modelo} acelerou para {self.velocidade} km/h.\")\n",
        "    else:\n",
        "        print(f\"Não é possível acelerar. O carro {self.modelo} está desligado.\")\n",
        "\n",
        "  def desacelera(self):\n",
        "    if self.ligado and self.velocidade > 0:\n",
        "      self.velocidade = max(0, self.velocidade - 10)\n",
        "      print(f\"O carro {self.modelo} desacelerou para {self.velocidade} km/h.\")\n",
        "    else:\n",
        "      print(f\"O carro {self.modelo} já está parado ou desligado.\")"
      ],
      "metadata": {
        "id": "4qTjzd85Wduo"
      },
      "execution_count": null,
      "outputs": []
    },
    {
      "cell_type": "markdown",
      "source": [
        "2. Crie uma instância da classe carro."
      ],
      "metadata": {
        "id": "6orbW45E8pom"
      }
    },
    {
      "cell_type": "code",
      "source": [
        "meu_carro = Carro(cor = \"Branco\", modelo = \"Onix\")"
      ],
      "metadata": {
        "id": "EdGysCb68rLE"
      },
      "execution_count": null,
      "outputs": []
    },
    {
      "cell_type": "markdown",
      "source": [
        "3. Faça o carro \"andar\" utilizando os métodos da sua classe.\n",
        "\n",
        "\n"
      ],
      "metadata": {
        "id": "5XC4RrTV8r8-"
      }
    },
    {
      "cell_type": "code",
      "source": [
        "meu_carro.liga()\n",
        "meu_carro.acelera()\n",
        "print()"
      ],
      "metadata": {
        "colab": {
          "base_uri": "https://localhost:8080/"
        },
        "id": "Uau-CUtH8snT",
        "outputId": "36d34500-ee14-417b-fc9f-190656b3b0d1"
      },
      "execution_count": null,
      "outputs": [
        {
          "output_type": "stream",
          "name": "stdout",
          "text": [
            "O carro Onix está agora ligado.\n",
            "O carro Onix acelerou para 10 km/h.\n",
            "\n"
          ]
        }
      ]
    },
    {
      "cell_type": "markdown",
      "source": [
        "4. Faça o carro \"parar\" utilizando os métodos da sua classe."
      ],
      "metadata": {
        "id": "SV1XGQ1w8tmp"
      }
    },
    {
      "cell_type": "code",
      "source": [
        "meu_carro.desliga()\n",
        "print()"
      ],
      "metadata": {
        "colab": {
          "base_uri": "https://localhost:8080/"
        },
        "id": "sMVncAlw8uC2",
        "outputId": "f7fdf2f6-3320-451f-ab34-e797ddf5c446"
      },
      "execution_count": null,
      "outputs": [
        {
          "output_type": "stream",
          "name": "stdout",
          "text": [
            "O carro Onix está agora desligado.\n",
            "\n"
          ]
        }
      ]
    },
    {
      "cell_type": "markdown",
      "source": [
        "## Parte 2"
      ],
      "metadata": {
        "id": "Ehjn_dBs6ypx"
      }
    },
    {
      "cell_type": "markdown",
      "source": [
        "1. O banco Banco Delas é um banco moderno e eficiente, com vantagens exclusivas para clientes mulheres. Modele um sistema orientado a objetos para representar contas correntes do Banco Delas seguindo os requisitos abaixo.\n",
        "\n",
        "● Cada conta corrente pode ter um ou mais clientes como titular.\n",
        "\n",
        "● O banco controla apenas o nome, o telefone e a renda mensal de cada cliente.\n",
        "\n",
        "● A conta corrente apresenta um saldo e uma lista de operações de saques e depósitos.\n",
        "\n",
        "● Quando a cliente fizer um saque, diminuiremos o saldo da conta corrente. Quando ela fizer um depósito, aumentaremos o saldo.\n",
        "\n",
        "● Clientes mulheres possuem em suas contas um cheque especial de valor igual à sua renda mensal, ou seja, elas podem sacar valores que deixam a sua conta com valor negativo até renda_mensal.\n",
        "\n",
        "● Clientes homens por enquanto não têm direito a cheque especial.\n",
        "\n",
        "Para modelar seu sistema, utilize obrigatoriamente os conceitos \"classe\", \"herança\", \"propriedades\", \"encapsulamento\" e \"classe abstrata\"."
      ],
      "metadata": {
        "id": "L0hagD-BKQuN"
      }
    },
    {
      "cell_type": "code",
      "source": [
        "from abc import ABC, abstractmethod\n",
        "\n",
        "# Classe abstrata Cliente\n",
        "class Cliente(ABC):\n",
        "    def __init__(self, nome, telefone, renda_mensal):\n",
        "        self.nome = nome\n",
        "        self.telefone = telefone\n",
        "        self.renda_mensal = renda_mensal\n",
        "\n",
        "    @abstractmethod\n",
        "    def possui_cheque_especial(self):\n",
        "        pass\n",
        "\n",
        "# Classe ClienteMulher, herda de Cliente\n",
        "class ClienteMulher(Cliente):\n",
        "    def possui_cheque_especial(self):\n",
        "        return True\n",
        "\n",
        "# Classe ClienteHomem, herda de Cliente\n",
        "class ClienteHomem(Cliente):\n",
        "    def possui_cheque_especial(self):\n",
        "        return False\n",
        "\n",
        "# Classe ContaCorrente\n",
        "class ContaCorrente:\n",
        "    def __init__(self, clientes):\n",
        "        self.clientes = clientes\n",
        "        self.saldo = 0.0\n",
        "        self.operacoes = []\n",
        "\n",
        "    @property\n",
        "    def saldo(self):\n",
        "        return self._saldo\n",
        "\n",
        "    @saldo.setter\n",
        "    def saldo(self, valor):\n",
        "        self._saldo = valor\n",
        "\n",
        "    def depositar(self, valor):\n",
        "        if valor > 0:\n",
        "            self.saldo += valor\n",
        "            self.operacoes.append(f\"Depósito de R${valor:.2f}\")\n",
        "        else:\n",
        "            print(\"Valor inválido para depósito.\")\n",
        "\n",
        "    def sacar(self, valor):\n",
        "        if valor <= 0:\n",
        "            print(\"Valor inválido para saque.\")\n",
        "            return\n",
        "\n",
        "        cheque_especial = sum(c.renda_mensal for c in self.clientes if c.possui_cheque_especial())\n",
        "        limite_saque = self.saldo + cheque_especial\n",
        "\n",
        "        if valor <= limite_saque:\n",
        "            self.saldo -= valor\n",
        "            self.operacoes.append(f\"Saque de R${valor:.2f}\")\n",
        "        else:\n",
        "            print(\"Saldo insuficiente para saque.\")\n",
        "\n",
        "    def exibir_operacoes(self):\n",
        "        for operacao in self.operacoes:\n",
        "            print(operacao)\n",
        "\n",
        "# Exemplo de uso\n",
        "cliente1 = ClienteMulher(nome=\"Maria\", telefone=\"1234-5678\", renda_mensal=5000)\n",
        "cliente2 = ClienteHomem(nome=\"João\", telefone=\"9876-5432\", renda_mensal=3000)\n",
        "\n",
        "conta = ContaCorrente(clientes=[cliente1, cliente2])\n",
        "\n",
        "conta.depositar(2000)\n",
        "conta.sacar(2500)  # Saque usando cheque especial de Maria\n",
        "conta.sacar(8000)  # Este saque vai falhar devido ao limite\n",
        "\n",
        "print(f\"Saldo atual: R${conta.saldo:.2f}\")\n",
        "conta.exibir_operacoes()"
      ],
      "metadata": {
        "colab": {
          "base_uri": "https://localhost:8080/"
        },
        "id": "7vWPSo0PKXt5",
        "outputId": "5ea08746-35ee-4f26-9601-7ed4a8af4cbb"
      },
      "execution_count": null,
      "outputs": [
        {
          "output_type": "stream",
          "name": "stdout",
          "text": [
            "Saldo insuficiente para saque.\n",
            "Saldo atual: R$-500.00\n",
            "Depósito de R$2000.00\n",
            "Saque de R$2500.00\n"
          ]
        }
      ]
    },
    {
      "cell_type": "markdown",
      "source": [
        "## Parte 3"
      ],
      "metadata": {
        "id": "UpTV9v5P61h8"
      }
    },
    {
      "cell_type": "markdown",
      "source": [
        "1. O programa abaixo deve calcular a média dos valores digitados\n",
        "pelo usuário. No entanto, ele não está funcionando bem. Você pode\n",
        "consertá-lo?\n",
        "\n",
        "\n",
        "\n",
        "```\n",
        "def calcular_media(valores):\n",
        "  tamanho = 1\n",
        "  soma = 0.0\n",
        "  for i, valor in enumerate(valores):\n",
        "    soma += valor\n",
        "    i +=1\n",
        "  media = soma / tamanho\n",
        "\n",
        "continuar = True\n",
        "valores= []\n",
        "while continuar:\n",
        "  valor = input ('Digite um número para entrar na sua média ou \"ok\" para calcular o valor:')\n",
        "  if valor.lower() == 'ok':\n",
        "    continuar = false\n",
        "\n",
        "media = calcular_media(valores)\n",
        "print('A média calculada para os valores {} foi de {}'.format(valores, media))\n",
        "```\n",
        "\n"
      ],
      "metadata": {
        "id": "XT2xUDQT63xY"
      }
    },
    {
      "cell_type": "markdown",
      "source": [
        "Resposta:\n",
        "\n",
        "A variável tamanho foi fixada como 1, mas deveria contar quantos valores foram inseridos pelo usuário.\n",
        "\n",
        "O valor de i está sendo incrementado manualmente no loop, mas isso é desnecessário, já que o enumerate já controla o índice.\n",
        "\n",
        "O false no final deve ser False (a primeira letra maiúscula em Python).\n",
        "\n",
        "A lista valores está sendo usada para armazenar os números, mas não está convertendo as entradas de texto para números."
      ],
      "metadata": {
        "id": "XmmXpKeB8APE"
      }
    },
    {
      "cell_type": "code",
      "source": [
        "def calcular_media(valores):\n",
        "    soma = 0.0  # Inicializar a soma como 0.0\n",
        "    tamanho = len(valores)  # O tamanho será o número de valores inseridos\n",
        "    if tamanho == 0:\n",
        "        return 0  # Evita divisão por zero caso a lista esteja vazia\n",
        "    for valor in valores:\n",
        "        soma += valor  # Somando cada valor na lista\n",
        "    media = soma / tamanho  # Calculando a média\n",
        "    return media\n",
        "\n",
        "continuar = True\n",
        "valores = []\n",
        "\n",
        "while continuar:\n",
        "    valor = input('Digite um número para entrar na sua média ou \"ok\" para calcular o valor: ')\n",
        "    if valor.lower() == 'ok':\n",
        "        continuar = False  # Mudar continuar para False para sair do loop\n",
        "    else:\n",
        "        try:\n",
        "            valores.append(float(valor))  # Convertendo o valor para float\n",
        "        except ValueError:\n",
        "            print(\"Por favor, digite um número válido ou 'ok' para finalizar.\")\n",
        "\n",
        "media = calcular_media(valores)\n",
        "print('A média calculada para os valores {} foi de {}'.format(valores, media))"
      ],
      "metadata": {
        "colab": {
          "base_uri": "https://localhost:8080/"
        },
        "id": "F8lgUmSZ7xv4",
        "outputId": "3ec829c2-0721-424c-c59d-16146f60ce58"
      },
      "execution_count": null,
      "outputs": [
        {
          "output_type": "stream",
          "name": "stdout",
          "text": [
            "Digite um número para entrar na sua média ou \"ok\" para calcular o valor: 1\n",
            "Digite um número para entrar na sua média ou \"ok\" para calcular o valor: ok\n",
            "A média calculada para os valores [1.0] foi de 1.0\n"
          ]
        }
      ]
    }
  ]
}